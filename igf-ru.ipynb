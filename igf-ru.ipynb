{
 "cells": [
  {
   "cell_type": "code",
   "execution_count": 1,
   "metadata": {},
   "outputs": [],
   "source": [
    "import requests\n",
    "from bs4 import BeautifulSoup\n",
    "import pandas as pd\n",
    "import urllib.parse\n",
    "from urllib.parse import parse_qs\n",
    "from youtube_transcript_api import YouTubeTranscriptApi"
   ]
  },
  {
   "cell_type": "code",
   "execution_count": 2,
   "metadata": {},
   "outputs": [
    {
     "data": {
      "text/html": [
       "<img src=\"https://static.tildacdn.com/tild3361-3935-4166-a132-616437623963/IGF-Thumbnail.png\" width=\"300\" height=\"200\"/>"
      ],
      "text/plain": [
       "<IPython.core.display.Image object>"
      ]
     },
     "execution_count": 2,
     "metadata": {},
     "output_type": "execute_result"
    }
   ],
   "source": [
    "from IPython.display import Image\n",
    "Image(url=\"https://static.tildacdn.com/tild3361-3935-4166-a132-616437623963/IGF-Thumbnail.png\", width=300, height=200)"
   ]
  },
  {
   "cell_type": "code",
   "execution_count": 3,
   "metadata": {},
   "outputs": [],
   "source": [
    "#\n",
    "# YouTubeTranscriptApi.get_transcript(\"bAtxYDZsHW8\", languages=['ru', 'en'])"
   ]
  },
  {
   "cell_type": "markdown",
   "metadata": {},
   "source": [
    "Сессии и спикеры Internet Governance Forum Russia 2010—2021"
   ]
  },
  {
   "cell_type": "markdown",
   "metadata": {},
   "source": [
    "## Данные о сессиях IGF 2021-2015"
   ]
  },
  {
   "cell_type": "code",
   "execution_count": 4,
   "metadata": {},
   "outputs": [],
   "source": [
    "def parse_igf_v2(soup, year):\n",
    "\n",
    "    for report in soup.select(\"tr > td#left\"):\n",
    "\n",
    "        video_page = report.select(\".arrow_presentation a\")\n",
    "        video_url = None\n",
    "        if len(video_page) > 0:\n",
    "            video_url = video_page[0]['href']\n",
    "            if \"?p=video\" not in video_url:\n",
    "                video_url = None\n",
    "            else:\n",
    "                video_url = parse_qs(video_url)['vid'][0]\n",
    "                video_url = None if len(video_url) != 11 else video_url\n",
    "    \n",
    "\n",
    "        yield {\n",
    "            'youtube_id': video_url,\n",
    "            'persons': [p.text for p in report.select(\"ul li a\")],\n",
    "            'title': report.find(\"h4\").text,\n",
    "            'summary': report.find(\"p\").text if report.find(\"p\") else None,\n",
    "            'year': year,\n",
    "        }"
   ]
  },
  {
   "cell_type": "code",
   "execution_count": 5,
   "metadata": {},
   "outputs": [],
   "source": [
    "reports = []"
   ]
  },
  {
   "cell_type": "code",
   "execution_count": 6,
   "metadata": {},
   "outputs": [],
   "source": [
    "sessions_v2 = {\n",
    "    2021: \"https://rigf2021.ru/prog/?p=prog\",\n",
    "    # 2020: \"https://rigf2020.ru/prog/?p=prog\",\n",
    "    2019: \"https://rigf2019.ru/prog/?p=prog\",\n",
    "    2018: \"https://rigf2018.ru/prog/?p=prog\",\n",
    "    2017: \"https://rigf2017.ru/prog/?p=prog\",\n",
    "    2016: \"https://rigf2016.ru/prog/?p=prog\",\n",
    "    2015: \"https://rigf2015.ru/prog/?p=prog\",\n",
    "}"
   ]
  },
  {
   "cell_type": "code",
   "execution_count": 7,
   "metadata": {},
   "outputs": [],
   "source": [
    "for (year, link) in sessions_v2.items():\n",
    "    page = requests.get(link)\n",
    "    soup = BeautifulSoup(page.text, 'html.parser')\n",
    "    for r in parse_igf_v2(soup, year): \n",
    "        reports.append(r)"
   ]
  },
  {
   "cell_type": "markdown",
   "metadata": {},
   "source": [
    "## Данные о сессиях IGF 2014-2011"
   ]
  },
  {
   "cell_type": "code",
   "execution_count": 8,
   "metadata": {},
   "outputs": [],
   "source": [
    "def parse_igf_v1(soup, year):\n",
    "\n",
    "    for report in soup.select(\"table.pro td\"):\n",
    "\n",
    "        if report.find(\"h3\") is None:\n",
    "            continue\n",
    "\n",
    "        video_page = report.select(\".arrow a\")\n",
    "        video_url = None\n",
    "        if len(video_page) > 0:\n",
    "            video_url = video_page[len(video_page)-1]['href']\n",
    "            if \"?p=video\" not in video_url:\n",
    "                video_url = None\n",
    "            else:\n",
    "                video_url = parse_qs(video_url)['vid'][0]\n",
    "                video_url = None if len(video_url) != 11 else video_url\n",
    "\n",
    "        yield {\n",
    "            'youtube_id': video_url,\n",
    "            'persons': [p.text for p in report.select(\"ul li a\")],\n",
    "            'title': report.find(\"h3\").text,\n",
    "            'summary': report.find(\"p\").text if report.find(\"p\") else None,\n",
    "            'year': year,\n",
    "        }"
   ]
  },
  {
   "cell_type": "code",
   "execution_count": 9,
   "metadata": {},
   "outputs": [],
   "source": [
    "sessions_v1 = {\n",
    "    2014: \"https://rigf2014.ru/prog/?p=prog\",\n",
    "    2013: \"https://rigf2013.ru/prog/?p=prog\",\n",
    "    2012: \"https://rigf2012.ru/prog/?p=prog\",\n",
    "    2011: \"https://rigf2011.ru/prog/?p=prog\",\n",
    "}"
   ]
  },
  {
   "cell_type": "code",
   "execution_count": 10,
   "metadata": {},
   "outputs": [],
   "source": [
    "for (year, link) in sessions_v1.items():\n",
    "    page = requests.get(link)\n",
    "    soup = BeautifulSoup(page.text, 'html.parser')\n",
    "    for r in parse_igf_v1(soup, year):\n",
    "        reports.append(r)"
   ]
  },
  {
   "cell_type": "markdown",
   "metadata": {},
   "source": [
    "## Данные о сессии IGF 2010"
   ]
  },
  {
   "cell_type": "code",
   "execution_count": 11,
   "metadata": {},
   "outputs": [],
   "source": [
    "def parse_igf_v0(soup, year):\n",
    "    for report in soup.select(\"tr > td#left\"):\n",
    "        yield {\n",
    "            'youtube_id': None,\n",
    "            'persons': [p.text for p in report.select(\"ul li strong a\")],\n",
    "            'title': report.find(\"strong a\").text,\n",
    "            'summary': report.find(\"p\").text if report.find(\"p\") else None,\n",
    "            'year': year,\n",
    "        }"
   ]
  },
  {
   "cell_type": "code",
   "execution_count": 12,
   "metadata": {},
   "outputs": [],
   "source": [
    "igfru2010_link = \"https://rigf2010.ru/eng/program.php\"\n",
    "page = requests.get(link)\n",
    "soup = BeautifulSoup(page.text, 'html.parser')\n",
    "for r in parse_igf_v0(soup, 2010): reports.append(r)"
   ]
  },
  {
   "cell_type": "markdown",
   "metadata": {},
   "source": [
    "## Транскрипции выступлений"
   ]
  },
  {
   "cell_type": "code",
   "execution_count": 13,
   "metadata": {},
   "outputs": [],
   "source": [
    "for r in reports:\n",
    "    try:\n",
    "        transcript = YouTubeTranscriptApi.get_transcript(r['youtube_id'], languages=['ru'])\n",
    "        r['video_transcript'] = \" \".join([t['text'] for t in transcript])\n",
    "    except:\n",
    "        r['video_transcript'] = None"
   ]
  },
  {
   "cell_type": "code",
   "execution_count": 14,
   "metadata": {},
   "outputs": [],
   "source": [
    "for r in reports:\n",
    "    persons = r['persons']\n",
    "    persons = [p.strip() for p in persons]\n",
    "    persons = [p.replace(\"\\n\", \" \") for p in persons]\n",
    "    persons = [p.replace(\"\\r\", \" \") for p in persons]\n",
    "    persons = [p.replace(\"\\xa0\", \" \") for p in persons]\n",
    "    persons = [p.replace(\"  \", \" \") for p in persons]\n",
    "    persons = [' '.join(p.split()) for p in persons]\n",
    "    r['persons'] = persons"
   ]
  },
  {
   "cell_type": "markdown",
   "metadata": {},
   "source": [
    "## Все сессии и спикеры"
   ]
  },
  {
   "cell_type": "code",
   "execution_count": 15,
   "metadata": {},
   "outputs": [
    {
     "data": {
      "text/html": [
       "<div>\n",
       "<style scoped>\n",
       "    .dataframe tbody tr th:only-of-type {\n",
       "        vertical-align: middle;\n",
       "    }\n",
       "\n",
       "    .dataframe tbody tr th {\n",
       "        vertical-align: top;\n",
       "    }\n",
       "\n",
       "    .dataframe thead th {\n",
       "        text-align: right;\n",
       "    }\n",
       "</style>\n",
       "<table border=\"1\" class=\"dataframe\">\n",
       "  <thead>\n",
       "    <tr style=\"text-align: right;\">\n",
       "      <th></th>\n",
       "      <th>youtube_id</th>\n",
       "      <th>persons</th>\n",
       "      <th>title</th>\n",
       "      <th>summary</th>\n",
       "      <th>year</th>\n",
       "      <th>video_transcript</th>\n",
       "    </tr>\n",
       "  </thead>\n",
       "  <tbody>\n",
       "    <tr>\n",
       "      <th>0</th>\n",
       "      <td>248b1oXAvB0</td>\n",
       "      <td>[Максут Шадаев, Александр Хинштейн, Татьяна Ма...</td>\n",
       "      <td>Церемония открытия</td>\n",
       "      <td>6  Всероссийский молодежный конкурс работ по п...</td>\n",
       "      <td>2021</td>\n",
       "      <td>друзья доброе утро здравствуйте дорогие участн...</td>\n",
       "    </tr>\n",
       "    <tr>\n",
       "      <th>1</th>\n",
       "      <td>aJFxUKudzwU</td>\n",
       "      <td>[Рашид Исмаилов, Мэнди Карвер, Вольфганг Клейн...</td>\n",
       "      <td>Секция 1. Управление интернетом</td>\n",
       "      <td>В июле 2018 года Генеральный секретарь ООН объ...</td>\n",
       "      <td>2021</td>\n",
       "      <td>российский форум по управлению интернетом и се...</td>\n",
       "    </tr>\n",
       "    <tr>\n",
       "      <th>2</th>\n",
       "      <td>pdTQahZV5TQ</td>\n",
       "      <td>[Эльза Ганеева, Андрей Игнатьев, Презентация, ...</td>\n",
       "      <td>Секция 2. Новые технологии. Искусственный инте...</td>\n",
       "      <td>В соответствии с «Концепцией развития регулиро...</td>\n",
       "      <td>2021</td>\n",
       "      <td>секция называется новые технологии искусственн...</td>\n",
       "    </tr>\n",
       "    <tr>\n",
       "      <th>3</th>\n",
       "      <td>q4R98A4Eh84</td>\n",
       "      <td>[Милош Вагнер, Наталья Великородняя, Николай Д...</td>\n",
       "      <td>Секция 3. Суверенитет данных</td>\n",
       "      <td>Суверенитет данных – это идея о том, что данны...</td>\n",
       "      <td>2021</td>\n",
       "      <td>доброе утро уважаемые участники 11 российского...</td>\n",
       "    </tr>\n",
       "    <tr>\n",
       "      <th>4</th>\n",
       "      <td>XQZTCXwWIvE</td>\n",
       "      <td>[]</td>\n",
       "      <td>Вручение награды Virtuti Interneti и традицион...</td>\n",
       "      <td>В 2010 г. Координационный центр доменов .RU/.Р...</td>\n",
       "      <td>2021</td>\n",
       "      <td>дорогие друзья мы переходим следующему этапу 1...</td>\n",
       "    </tr>\n",
       "    <tr>\n",
       "      <th>...</th>\n",
       "      <td>...</td>\n",
       "      <td>...</td>\n",
       "      <td>...</td>\n",
       "      <td>...</td>\n",
       "      <td>...</td>\n",
       "      <td>...</td>\n",
       "    </tr>\n",
       "    <tr>\n",
       "      <th>69</th>\n",
       "      <td>None</td>\n",
       "      <td>[]</td>\n",
       "      <td>Круглый  стол 1. Российская  и европейская поз...</td>\n",
       "      <td>Европа  - один признанных лидеров в области ра...</td>\n",
       "      <td>2011</td>\n",
       "      <td>None</td>\n",
       "    </tr>\n",
       "    <tr>\n",
       "      <th>70</th>\n",
       "      <td>None</td>\n",
       "      <td>[]</td>\n",
       "      <td>Круглый  стол 2. Управление интернетом в Росси...</td>\n",
       "      <td>Модераторы: Маркус  Куммер, Вице-президент ISO...</td>\n",
       "      <td>2011</td>\n",
       "      <td>None</td>\n",
       "    </tr>\n",
       "    <tr>\n",
       "      <th>71</th>\n",
       "      <td>None</td>\n",
       "      <td>[]</td>\n",
       "      <td>Перерыв на кофе</td>\n",
       "      <td>None</td>\n",
       "      <td>2011</td>\n",
       "      <td>None</td>\n",
       "    </tr>\n",
       "    <tr>\n",
       "      <th>72</th>\n",
       "      <td>None</td>\n",
       "      <td>[]</td>\n",
       "      <td>Сценарии будущего развития интернета: взгляд и...</td>\n",
       "      <td>Большинство  экспертов предполагают, что в буд...</td>\n",
       "      <td>2011</td>\n",
       "      <td>None</td>\n",
       "    </tr>\n",
       "    <tr>\n",
       "      <th>73</th>\n",
       "      <td>None</td>\n",
       "      <td>[]</td>\n",
       "      <td>Специальное  выступление</td>\n",
       "      <td>Дэвид  Фарбер, профессор университета Карнеги-...</td>\n",
       "      <td>2011</td>\n",
       "      <td>None</td>\n",
       "    </tr>\n",
       "  </tbody>\n",
       "</table>\n",
       "<p>74 rows × 6 columns</p>\n",
       "</div>"
      ],
      "text/plain": [
       "     youtube_id                                            persons  \\\n",
       "0   248b1oXAvB0  [Максут Шадаев, Александр Хинштейн, Татьяна Ма...   \n",
       "1   aJFxUKudzwU  [Рашид Исмаилов, Мэнди Карвер, Вольфганг Клейн...   \n",
       "2   pdTQahZV5TQ  [Эльза Ганеева, Андрей Игнатьев, Презентация, ...   \n",
       "3   q4R98A4Eh84  [Милош Вагнер, Наталья Великородняя, Николай Д...   \n",
       "4   XQZTCXwWIvE                                                 []   \n",
       "..          ...                                                ...   \n",
       "69         None                                                 []   \n",
       "70         None                                                 []   \n",
       "71         None                                                 []   \n",
       "72         None                                                 []   \n",
       "73         None                                                 []   \n",
       "\n",
       "                                                title  \\\n",
       "0                                  Церемония открытия   \n",
       "1                     Секция 1. Управление интернетом   \n",
       "2   Секция 2. Новые технологии. Искусственный инте...   \n",
       "3                        Секция 3. Суверенитет данных   \n",
       "4   Вручение награды Virtuti Interneti и традицион...   \n",
       "..                                                ...   \n",
       "69  Круглый  стол 1. Российская  и европейская поз...   \n",
       "70  Круглый  стол 2. Управление интернетом в Росси...   \n",
       "71                                   Перерыв на кофе    \n",
       "72  Сценарии будущего развития интернета: взгляд и...   \n",
       "73                           Специальное  выступление   \n",
       "\n",
       "                                              summary  year  \\\n",
       "0   6  Всероссийский молодежный конкурс работ по п...  2021   \n",
       "1   В июле 2018 года Генеральный секретарь ООН объ...  2021   \n",
       "2   В соответствии с «Концепцией развития регулиро...  2021   \n",
       "3   Суверенитет данных – это идея о том, что данны...  2021   \n",
       "4   В 2010 г. Координационный центр доменов .RU/.Р...  2021   \n",
       "..                                                ...   ...   \n",
       "69  Европа  - один признанных лидеров в области ра...  2011   \n",
       "70  Модераторы: Маркус  Куммер, Вице-президент ISO...  2011   \n",
       "71                                               None  2011   \n",
       "72  Большинство  экспертов предполагают, что в буд...  2011   \n",
       "73  Дэвид  Фарбер, профессор университета Карнеги-...  2011   \n",
       "\n",
       "                                     video_transcript  \n",
       "0   друзья доброе утро здравствуйте дорогие участн...  \n",
       "1   российский форум по управлению интернетом и се...  \n",
       "2   секция называется новые технологии искусственн...  \n",
       "3   доброе утро уважаемые участники 11 российского...  \n",
       "4   дорогие друзья мы переходим следующему этапу 1...  \n",
       "..                                                ...  \n",
       "69                                               None  \n",
       "70                                               None  \n",
       "71                                               None  \n",
       "72                                               None  \n",
       "73                                               None  \n",
       "\n",
       "[74 rows x 6 columns]"
      ]
     },
     "execution_count": 15,
     "metadata": {},
     "output_type": "execute_result"
    }
   ],
   "source": [
    "df = pd.DataFrame.from_dict(reports)\n",
    "df"
   ]
  },
  {
   "cell_type": "code",
   "execution_count": 16,
   "metadata": {},
   "outputs": [],
   "source": [
    "df.to_json('all_data.json')"
   ]
  },
  {
   "cell_type": "markdown",
   "metadata": {},
   "source": [
    "# Статистика"
   ]
  },
  {
   "cell_type": "markdown",
   "metadata": {},
   "source": [
    "**Всего сессий**"
   ]
  },
  {
   "cell_type": "code",
   "execution_count": 17,
   "metadata": {},
   "outputs": [
    {
     "data": {
      "text/plain": [
       "444"
      ]
     },
     "execution_count": 17,
     "metadata": {},
     "output_type": "execute_result"
    }
   ],
   "source": [
    "df.size"
   ]
  },
  {
   "cell_type": "markdown",
   "metadata": {},
   "source": [
    "**Всего персон**"
   ]
  },
  {
   "cell_type": "code",
   "execution_count": 18,
   "metadata": {},
   "outputs": [
    {
     "data": {
      "text/plain": [
       "131"
      ]
     },
     "execution_count": 18,
     "metadata": {},
     "output_type": "execute_result"
    }
   ],
   "source": [
    "import itertools\n",
    "all_persons = [r['persons'] for r in reports]\n",
    "all_persons = set(itertools.chain.from_iterable(all_persons))\n",
    "\n",
    "len(all_persons)\n"
   ]
  },
  {
   "cell_type": "markdown",
   "metadata": {},
   "source": [
    "**Докладов с транскрипцией**"
   ]
  },
  {
   "cell_type": "code",
   "execution_count": 19,
   "metadata": {},
   "outputs": [
    {
     "data": {
      "text/plain": [
       "12"
      ]
     },
     "execution_count": 19,
     "metadata": {},
     "output_type": "execute_result"
    }
   ],
   "source": [
    "len(list(filter(lambda r: r['video_transcript'] is not None, reports)))"
   ]
  },
  {
   "cell_type": "markdown",
   "metadata": {},
   "source": [
    "**Граф связей**"
   ]
  },
  {
   "cell_type": "code",
   "execution_count": 20,
   "metadata": {},
   "outputs": [],
   "source": [
    "persons_to_reports = {}\n",
    "\n",
    "for report in reports:\n",
    "    for person in report['persons']:\n",
    "        if person not in persons_to_reports:\n",
    "            persons_to_reports[person] = []\n",
    "        persons_to_reports[person].append((report['year'], report['title']))"
   ]
  },
  {
   "cell_type": "markdown",
   "metadata": {},
   "source": [
    "**Персоны с наиболее длительным присутcтвием на IGF**"
   ]
  },
  {
   "cell_type": "code",
   "execution_count": 21,
   "metadata": {},
   "outputs": [
    {
     "data": {
      "text/plain": [
       "[('Андрей Ярных', [2016, 2017, 2021, 2013, 2014]),\n",
       " ('Олег Демидов', [2016, 2017, 2013]),\n",
       " ('Георгий Грицай', [2016, 2013, 2014]),\n",
       " ('Руслан Гаттаров', [2012, 2013, 2014]),\n",
       " ('Андрей Воробьев', [2021, 2014]),\n",
       " ('Вольфганг Клейнвахтер', [2013, 2021]),\n",
       " ('Презентация', [2017, 2021]),\n",
       " ('Сергей Плуготаренко', [2017, 2021]),\n",
       " ('Вольфганг Кляйнвахтер', [2016, 2018]),\n",
       " ('Маарит Паловирта', [2016, 2017]),\n",
       " ('Роберт Шлегель', [2016, 2012]),\n",
       " ('Андрей Колесников', [2012, 2014]),\n",
       " ('Марина Никерова', [2013, 2014]),\n",
       " ('Ульяна Зинина', [2013, 2014]),\n",
       " ('Вени Марковский', [2013, 2014]),\n",
       " ('Павел Храмцов', [2013, 2014]),\n",
       " ('Мадина Касенова', [2013, 2014]),\n",
       " ('Джефф Мосс', [2012, 2013]),\n",
       " ('Максут Шадаев', [2021]),\n",
       " ('Александр Хинштейн', [2021])]"
      ]
     },
     "execution_count": 21,
     "metadata": {},
     "output_type": "execute_result"
    }
   ],
   "source": [
    "persons_to_year_count = {}\n",
    "for p, rs in persons_to_reports.items():\n",
    "    persons_to_year_count[p] = list(set([r[0] for r in rs]))\n",
    "\n",
    "top_20_long_presence = list(sorted(persons_to_year_count.items(), key=lambda kv: len(kv[1]), reverse=True))[:20]\n",
    "top_20_long_presence"
   ]
  },
  {
   "cell_type": "markdown",
   "metadata": {},
   "source": [
    "**Персоны с присутсвием в большом числе докладов**"
   ]
  },
  {
   "cell_type": "code",
   "execution_count": 22,
   "metadata": {},
   "outputs": [
    {
     "data": {
      "text/plain": [
       "[('Презентация', 12),\n",
       " ('Андрей Ярных', 7),\n",
       " ('Олег Демидов', 6),\n",
       " ('Георгий Грицай', 5),\n",
       " ('Руслан Гаттаров', 4),\n",
       " ('Ульяна Зинина', 4),\n",
       " ('Вени Марковский', 4),\n",
       " ('Павел Храмцов', 4),\n",
       " ('Мадина Касенова', 4),\n",
       " ('Бертран де ля Шапель', 4),\n",
       " ('Андрей Воробьев', 3),\n",
       " ('Вольфганг Клейнвахтер', 3),\n",
       " ('Вольфганг Кляйнвахтер', 3),\n",
       " ('Аксель Павлик', 3),\n",
       " ('Марина Никерова', 3),\n",
       " ('Джефф Мосс', 3),\n",
       " ('Татьяна Матвеева', 2),\n",
       " ('Рашид Исмаилов', 2),\n",
       " ('Сергей Плуготаренко', 2),\n",
       " ('Маарит Паловирта', 2)]"
      ]
     },
     "execution_count": 22,
     "metadata": {},
     "output_type": "execute_result"
    }
   ],
   "source": [
    "persons_to_report_count = {}\n",
    "for p, rs in persons_to_reports.items():\n",
    "    persons_to_report_count[p] = len(rs)\n",
    "\n",
    "top_20_report_count = list(sorted(persons_to_report_count.items(), key=lambda kv: kv[1], reverse=True))[:20]\n",
    "top_20_report_count"
   ]
  },
  {
   "cell_type": "markdown",
   "metadata": {},
   "source": [
    "**Статистика слов из агрегированных докладов по годам**"
   ]
  },
  {
   "cell_type": "code",
   "execution_count": 23,
   "metadata": {},
   "outputs": [
    {
     "name": "stderr",
     "output_type": "stream",
     "text": [
      "[nltk_data] Downloading package punkt to\n",
      "[nltk_data]     C:\\Users\\Sergei\\AppData\\Roaming\\nltk_data...\n",
      "[nltk_data]   Package punkt is already up-to-date!\n",
      "[nltk_data] Downloading package stopwords to\n",
      "[nltk_data]     C:\\Users\\Sergei\\AppData\\Roaming\\nltk_data...\n",
      "[nltk_data]   Package stopwords is already up-to-date!\n"
     ]
    }
   ],
   "source": [
    "from nltk.tokenize import sent_tokenize, word_tokenize\n",
    "from nltk.corpus import stopwords\n",
    "\n",
    "import nltk\n",
    "nltk.download('punkt')\n",
    "nltk.download('stopwords')\n",
    "\n",
    "from nltk.stem import SnowballStemmer\n",
    "snowball = SnowballStemmer(language=\"russian\")"
   ]
  },
  {
   "cell_type": "code",
   "execution_count": 24,
   "metadata": {},
   "outputs": [],
   "source": [
    "import pymorphy2\n",
    "morph = pymorphy2.MorphAnalyzer()"
   ]
  },
  {
   "cell_type": "code",
   "execution_count": 25,
   "metadata": {},
   "outputs": [
    {
     "data": {
      "text/plain": [
       "dict_keys([2021, 2019, 2014])"
      ]
     },
     "execution_count": 25,
     "metadata": {},
     "output_type": "execute_result"
    }
   ],
   "source": [
    "words_spoken = {}\n",
    "russian_stopwords = stopwords.words(\"russian\")\n",
    "\n",
    "for report in reports:\n",
    "    if report['video_transcript'] is None: continue\n",
    "    year = report['year']\n",
    "    if year not in words_spoken: words_spoken[year] = {}\n",
    "    r_words_spoken = word_tokenize(report['video_transcript'], language=\"russian\")\n",
    "    \n",
    "    for w in r_words_spoken:\n",
    "        w = morph.parse(w)[0].normal_form\n",
    "        if w in russian_stopwords: continue\n",
    "        if w not in words_spoken[year]: words_spoken[year][w] = 0\n",
    "        words_spoken[year][w] += 1\n",
    "\n",
    "words_spoken.keys()"
   ]
  },
  {
   "cell_type": "code",
   "execution_count": 26,
   "metadata": {},
   "outputs": [],
   "source": [
    "def top_100_words(items):\n",
    "    return list(sorted(items, key=lambda wc: wc[1], reverse=True))[:100]"
   ]
  },
  {
   "cell_type": "code",
   "execution_count": 33,
   "metadata": {},
   "outputs": [],
   "source": [
    "top_2021_words = top_100_words(words_spoken[2021].items())\n",
    "top_2019_words = top_100_words(words_spoken[2019].items())\n",
    "top_2014_words = top_100_words(words_spoken[2014].items())"
   ]
  },
  {
   "cell_type": "code",
   "execution_count": 28,
   "metadata": {},
   "outputs": [
    {
     "data": {
      "text/plain": [
       "'это который всё очень вопрос интернет мочь наш весь говорить свой большой какой-то человек цифровой государство год спасибо платформа должный ещё хотеть компания данные страна право сегодня поэтому сказать управление дело работа первый форум российский собственно сторона дать решение принцип международный просто знать мир правило слово нужно действительно проблема работать наверное россия общий также регулирование интеллект пользователь бизнес развитие возможность уровень система например разный являться технология думать самый именно время понимать участник новый иметь доверие организация точка важно информация сделать день глобальный число достаточно видеть искусственный сеть делать коллега важный тема больший безопасность заниматься зрение процесс соответственно общество вообще хороший'"
      ]
     },
     "execution_count": 28,
     "metadata": {},
     "output_type": "execute_result"
    }
   ],
   "source": [
    "' '.join(w[0] for w in top_2021_words)"
   ]
  },
  {
   "cell_type": "code",
   "execution_count": 29,
   "metadata": {},
   "outputs": [
    {
     "data": {
      "text/plain": [
       "'это который интернет данные очень дать вопрос всё наш говорить человек мочь должный весь сегодня знать управление год свой ещё пользователь спасибо право защита большой какой-то являться хотеть дело самый персональный форум думать ваш сказать разный сторона давать государство процесс первый информация время международный глобальный регулирование закон действительно дискуссия например нужно страна жизнь решение коллега общество понимать развитие поэтому контент россия компания просто pr будущее конвенция робот европа цифровой именно хороший принцип любой новый уровень мир использовать европейский технический китай интересно германия также российский важно необходимо точка подход часть среда фейсбук организация господин китайский использование важный искусственный интеллект принять наверное'"
      ]
     },
     "execution_count": 29,
     "metadata": {},
     "output_type": "execute_result"
    }
   ],
   "source": [
    "' '.join(w[0] for w in top_2019_words)"
   ]
  },
  {
   "cell_type": "code",
   "execution_count": 34,
   "metadata": {},
   "outputs": [
    {
     "data": {
      "text/plain": [
       "'это интернет который очень наш европа совет всё год российский весь хотеть человек сказать говорить мочь домен сегодня спасибо федерация большой важный праздник форум работать слово россия страна управление центр свой конвенция время пожалуйста видеть принять работа первый друг господин коллега директор самый ещё сообщество 20 ваш свобода безопасность отношение 20-летие вещь собственно поздравлять ребёнок международный представитель представить член закон данные хотя заниматься связь регион парламентский ассамблея назад орден присоединиться ru часть поэтому открытие знать достаточно колесников юбилей точка значит . продолжать являться информационный поздравить должный компания персональный мир какой-то отключить вместе технический успешный добрый утро уважаемый действительно особый поскольку'"
      ]
     },
     "execution_count": 34,
     "metadata": {},
     "output_type": "execute_result"
    }
   ],
   "source": [
    "' '.join(w[0] for w in top_2014_words)"
   ]
  },
  {
   "cell_type": "markdown",
   "metadata": {},
   "source": [
    "## Новые слова и тренды"
   ]
  },
  {
   "cell_type": "code",
   "execution_count": 30,
   "metadata": {},
   "outputs": [],
   "source": [
    "common = set(w[0] for w in top_2021_words) & set(w[0] for w in top_2019_words) "
   ]
  },
  {
   "cell_type": "markdown",
   "metadata": {},
   "source": [
    "**2021**"
   ]
  },
  {
   "cell_type": "code",
   "execution_count": 31,
   "metadata": {},
   "outputs": [
    {
     "data": {
      "text/plain": [
       "'платформа работа собственно правило слово проблема работать общий бизнес возможность система технология участник иметь доверие сделать день число достаточно видеть сеть делать тема больший безопасность заниматься зрение соответственно вообще'"
      ]
     },
     "execution_count": 31,
     "metadata": {},
     "output_type": "execute_result"
    }
   ],
   "source": [
    "' '.join(w[0] for w in top_2021_words if w[0] not in common)"
   ]
  },
  {
   "cell_type": "markdown",
   "metadata": {},
   "source": [
    "**2019**"
   ]
  },
  {
   "cell_type": "code",
   "execution_count": 32,
   "metadata": {},
   "outputs": [
    {
     "data": {
      "text/plain": [
       "'защита персональный ваш давать закон дискуссия жизнь контент pr будущее конвенция робот европа любой использовать европейский технический китай интересно германия необходимо подход часть среда фейсбук господин китайский использование принять'"
      ]
     },
     "execution_count": 32,
     "metadata": {},
     "output_type": "execute_result"
    }
   ],
   "source": [
    "' '.join(w[0] for w in top_2019_words if w[0] not in common)"
   ]
  },
  {
   "cell_type": "markdown",
   "metadata": {},
   "source": [
    "**2014**"
   ]
  },
  {
   "cell_type": "code",
   "execution_count": 35,
   "metadata": {},
   "outputs": [
    {
     "data": {
      "text/plain": [
       "'европа совет домен федерация праздник работать слово центр конвенция пожалуйста видеть принять работа друг господин директор сообщество 20 ваш свобода безопасность отношение 20-летие вещь собственно поздравлять ребёнок представитель представить член закон хотя заниматься связь регион парламентский ассамблея назад орден присоединиться ru часть открытие достаточно колесников юбилей значит . продолжать информационный поздравить персональный отключить вместе технический успешный добрый утро уважаемый особый поскольку'"
      ]
     },
     "execution_count": 35,
     "metadata": {},
     "output_type": "execute_result"
    }
   ],
   "source": [
    "' '.join(w[0] for w in top_2014_words if w[0] not in common)"
   ]
  },
  {
   "cell_type": "code",
   "execution_count": null,
   "metadata": {},
   "outputs": [],
   "source": []
  }
 ],
 "metadata": {
  "interpreter": {
   "hash": "cac020b581384e1962e972c3920410c10ad897384973141e78281b82384cc9cd"
  },
  "kernelspec": {
   "display_name": "Python 3.9.7 ('pytorch')",
   "language": "python",
   "name": "python3"
  },
  "language_info": {
   "codemirror_mode": {
    "name": "ipython",
    "version": 3
   },
   "file_extension": ".py",
   "mimetype": "text/x-python",
   "name": "python",
   "nbconvert_exporter": "python",
   "pygments_lexer": "ipython3",
   "version": "3.9.7"
  },
  "orig_nbformat": 4
 },
 "nbformat": 4,
 "nbformat_minor": 2
}
