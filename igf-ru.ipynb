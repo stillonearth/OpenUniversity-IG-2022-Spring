{
 "cells": [
  {
   "cell_type": "code",
   "execution_count": 1,
   "metadata": {},
   "outputs": [],
   "source": [
    "import requests\n",
    "from bs4 import BeautifulSoup\n",
    "import pandas as pd"
   ]
  },
  {
   "cell_type": "code",
   "execution_count": 37,
   "metadata": {},
   "outputs": [
    {
     "data": {
      "text/html": [
       "<img src=\"https://static.tildacdn.com/tild3361-3935-4166-a132-616437623963/IGF-Thumbnail.png\" width=\"300\" height=\"200\"/>"
      ],
      "text/plain": [
       "<IPython.core.display.Image object>"
      ]
     },
     "execution_count": 37,
     "metadata": {},
     "output_type": "execute_result"
    }
   ],
   "source": [
    "from IPython.display import Image\n",
    "Image(url=\"https://static.tildacdn.com/tild3361-3935-4166-a132-616437623963/IGF-Thumbnail.png\", width=300, height=200)"
   ]
  },
  {
   "cell_type": "markdown",
   "metadata": {},
   "source": [
    "Сессии и спикеры Internet Governance Forum Russia 2010—2021"
   ]
  },
  {
   "cell_type": "markdown",
   "metadata": {},
   "source": [
    "## Данные о сессиях IGF 2021-2015"
   ]
  },
  {
   "cell_type": "code",
   "execution_count": 2,
   "metadata": {},
   "outputs": [],
   "source": [
    "def parse_igf_v2(soup, year):\n",
    "\n",
    "    for report in soup.select(\"tr > td#left\"):\n",
    "        yield {\n",
    "            'persons': [p.text for p in report.select(\"ul li a\")],\n",
    "            'title': report.find(\"h4\").text,\n",
    "            'summary': report.find(\"p\").text if report.find(\"p\") else None,\n",
    "            'year': year,\n",
    "        }"
   ]
  },
  {
   "cell_type": "code",
   "execution_count": 3,
   "metadata": {},
   "outputs": [],
   "source": [
    "reports = []"
   ]
  },
  {
   "cell_type": "code",
   "execution_count": 4,
   "metadata": {},
   "outputs": [],
   "source": [
    "sessions_v2 = {\n",
    "    2021: \"https://rigf2021.ru/en/prog/?p=prog\",\n",
    "    2020: \"https://rigf2020.ru/en/prog/?p=prog\",\n",
    "    2019: \"https://rigf2019.ru/en/prog/?p=prog\",\n",
    "    2018: \"https://rigf2018.ru/en/prog/?p=prog\",\n",
    "    2017: \"https://rigf2017.ru/en/prog/?p=prog\",\n",
    "    2016: \"https://rigf2016.ru/en/prog/?p=prog\",\n",
    "    2015: \"https://rigf2015.ru/en/prog/?p=prog\",\n",
    "}"
   ]
  },
  {
   "cell_type": "code",
   "execution_count": 5,
   "metadata": {},
   "outputs": [],
   "source": [
    "for (year, link) in sessions_v2.items():\n",
    "    page = requests.get(link)\n",
    "    soup = BeautifulSoup(page.text, 'html.parser')\n",
    "    for r in parse_igf_v2(soup, year): reports.append(r)"
   ]
  },
  {
   "cell_type": "markdown",
   "metadata": {},
   "source": [
    "## Данные о сессиях IGF 2014-2011"
   ]
  },
  {
   "cell_type": "code",
   "execution_count": 6,
   "metadata": {},
   "outputs": [],
   "source": [
    "def parse_igf_v1(soup, year):\n",
    "\n",
    "    for report in soup.select(\"tr > td#left\"):\n",
    "        yield {\n",
    "            'persons': [p.text for p in report.select(\"ul li a\")],\n",
    "            'title': report.find(\"h3\").text,\n",
    "            'summary': report.find(\"p\").text if report.find(\"p\") else None,\n",
    "            'year': year,\n",
    "        }"
   ]
  },
  {
   "cell_type": "code",
   "execution_count": 7,
   "metadata": {},
   "outputs": [],
   "source": [
    "sessions_v1 = {\n",
    "    2014: \"https://rigf2014.ru/en/prog/?p=prog\",\n",
    "    2013: \"https://rigf2013.ru/en/prog/?p=prog\",\n",
    "    2012: \"https://rigf2012.ru/en/prog/?p=prog\",\n",
    "    2011: \"https://rigf2011.ru/en/prog/?p=prog\",\n",
    "}"
   ]
  },
  {
   "cell_type": "code",
   "execution_count": 8,
   "metadata": {},
   "outputs": [],
   "source": [
    "for (year, link) in sessions_v1.items():\n",
    "    page = requests.get(link)\n",
    "    soup = BeautifulSoup(page.text, 'html.parser')\n",
    "    for r in parse_igf_v1(soup, year): reports.append(r)"
   ]
  },
  {
   "cell_type": "markdown",
   "metadata": {},
   "source": [
    "## Данные о сессии IGF 2010"
   ]
  },
  {
   "cell_type": "code",
   "execution_count": 9,
   "metadata": {},
   "outputs": [],
   "source": [
    "def parse_igf_v0(soup, year):\n",
    "    for report in soup.select(\"tr > td#left\"):\n",
    "        yield {\n",
    "            'persons': [p.text for p in report.select(\"ul li strong a\")],\n",
    "            'title': report.find(\"strong a\").text,\n",
    "            'summary': report.find(\"p\").text if report.find(\"p\") else None,\n",
    "            'year': year,\n",
    "        }"
   ]
  },
  {
   "cell_type": "code",
   "execution_count": 10,
   "metadata": {},
   "outputs": [],
   "source": [
    "igfru2010_link = \"https://rigf2010.ru/eng/program.php\"\n",
    "page = requests.get(link)\n",
    "soup = BeautifulSoup(page.text, 'html.parser')\n",
    "for r in parse_igf_v0(soup, 2010): reports.append(r)"
   ]
  },
  {
   "cell_type": "markdown",
   "metadata": {},
   "source": [
    "## Все сессии и спикеры"
   ]
  },
  {
   "cell_type": "code",
   "execution_count": 16,
   "metadata": {},
   "outputs": [
    {
     "data": {
      "text/html": [
       "<div>\n",
       "<style scoped>\n",
       "    .dataframe tbody tr th:only-of-type {\n",
       "        vertical-align: middle;\n",
       "    }\n",
       "\n",
       "    .dataframe tbody tr th {\n",
       "        vertical-align: top;\n",
       "    }\n",
       "\n",
       "    .dataframe thead th {\n",
       "        text-align: right;\n",
       "    }\n",
       "</style>\n",
       "<table border=\"1\" class=\"dataframe\">\n",
       "  <thead>\n",
       "    <tr style=\"text-align: right;\">\n",
       "      <th></th>\n",
       "      <th>persons</th>\n",
       "      <th>title</th>\n",
       "      <th>summary</th>\n",
       "      <th>year</th>\n",
       "    </tr>\n",
       "  </thead>\n",
       "  <tbody>\n",
       "    <tr>\n",
       "      <th>0</th>\n",
       "      <td>[Maxut Shadayev, Alexander Khinstein, Tatyana ...</td>\n",
       "      <td>Opening Ceremony</td>\n",
       "      <td>The Sixth National Youth Contest of Works on  ...</td>\n",
       "      <td>2021</td>\n",
       "    </tr>\n",
       "    <tr>\n",
       "      <th>1</th>\n",
       "      <td>[Mandy Carver, Rashid Ismailov, Wolfgang Klein...</td>\n",
       "      <td>Session 1. Internet governance</td>\n",
       "      <td>In July 2018, the UN Secretary-General announc...</td>\n",
       "      <td>2021</td>\n",
       "    </tr>\n",
       "    <tr>\n",
       "      <th>2</th>\n",
       "      <td>[Maxim Fedorov, Elsa  Ganeeva, Andrey Ignatyev...</td>\n",
       "      <td>Session 2. Emerging technologies. Artificial i...</td>\n",
       "      <td>Under the Concept on Regulation of Relations i...</td>\n",
       "      <td>2021</td>\n",
       "    </tr>\n",
       "    <tr>\n",
       "      <th>3</th>\n",
       "      <td>[Bertrand de  la Chapelle, Nikolay Dmitrik, Al...</td>\n",
       "      <td>Session 3. Regulation: Data sovereignty</td>\n",
       "      <td>Data sovereignty is the idea that data is subj...</td>\n",
       "      <td>2021</td>\n",
       "    </tr>\n",
       "    <tr>\n",
       "      <th>4</th>\n",
       "      <td>[]</td>\n",
       "      <td>Virtuti Interneti award presentation and the a...</td>\n",
       "      <td>In 2010, the Coordination Center for TLD .RU/....</td>\n",
       "      <td>2021</td>\n",
       "    </tr>\n",
       "    <tr>\n",
       "      <th>5</th>\n",
       "      <td>[Lucien Castex, Bella Cherkesova, Vladimir Gab...</td>\n",
       "      <td>Session 4. Digital platforms: the rules of the...</td>\n",
       "      <td>Hosted by: Competence Center for Global IT Coo...</td>\n",
       "      <td>2021</td>\n",
       "    </tr>\n",
       "    <tr>\n",
       "      <th>6</th>\n",
       "      <td>[Elena Bocherova, Presentation, Stanislav Fese...</td>\n",
       "      <td>Session 5. Building a system of trust in suppl...</td>\n",
       "      <td>Trust for IT products and services is gaining ...</td>\n",
       "      <td>2021</td>\n",
       "    </tr>\n",
       "    <tr>\n",
       "      <th>7</th>\n",
       "      <td>[Sergey Golovanov, Presentation, Alexander Kal...</td>\n",
       "      <td>Session 6. Attributing cyberattacks on the int...</td>\n",
       "      <td>The past four years have seen unprecedented gr...</td>\n",
       "      <td>2021</td>\n",
       "    </tr>\n",
       "    <tr>\n",
       "      <th>8</th>\n",
       "      <td>[Elena Zayeva, Karen Kazaryan, Yury Kontemirov...</td>\n",
       "      <td>Session 7. User agreements with internet platf...</td>\n",
       "      <td>All internet platforms censor the content and ...</td>\n",
       "      <td>2021</td>\n",
       "    </tr>\n",
       "    <tr>\n",
       "      <th>9</th>\n",
       "      <td>[Presentation]</td>\n",
       "      <td>Session 8. Taking stock</td>\n",
       "      <td>Representatives from the Youth Session will pr...</td>\n",
       "      <td>2021</td>\n",
       "    </tr>\n",
       "    <tr>\n",
       "      <th>10</th>\n",
       "      <td>[Maxut Shadayev, Alexander Khinstein, Tatyana ...</td>\n",
       "      <td>Opening Ceremony</td>\n",
       "      <td>The Sixth National Youth Contest of Works on  ...</td>\n",
       "      <td>2020</td>\n",
       "    </tr>\n",
       "    <tr>\n",
       "      <th>11</th>\n",
       "      <td>[Mandy Carver, Rashid Ismailov, Wolfgang Klein...</td>\n",
       "      <td>Session 1. Internet governance</td>\n",
       "      <td>In July 2018, the UN Secretary-General announc...</td>\n",
       "      <td>2020</td>\n",
       "    </tr>\n",
       "    <tr>\n",
       "      <th>12</th>\n",
       "      <td>[Maxim Fedorov, Elsa  Ganeeva, Andrey Ignatyev...</td>\n",
       "      <td>Session 2. Emerging technologies. Artificial i...</td>\n",
       "      <td>Under the Concept on Regulation of Relations i...</td>\n",
       "      <td>2020</td>\n",
       "    </tr>\n",
       "    <tr>\n",
       "      <th>13</th>\n",
       "      <td>[Bertrand de  la Chapelle, Nikolay Dmitrik, Al...</td>\n",
       "      <td>Session 3. Regulation: Data sovereignty</td>\n",
       "      <td>Data sovereignty is the idea that data is subj...</td>\n",
       "      <td>2020</td>\n",
       "    </tr>\n",
       "    <tr>\n",
       "      <th>14</th>\n",
       "      <td>[]</td>\n",
       "      <td>Virtuti Interneti award presentation and the a...</td>\n",
       "      <td>In 2010, the Coordination Center for TLD .RU/....</td>\n",
       "      <td>2020</td>\n",
       "    </tr>\n",
       "    <tr>\n",
       "      <th>15</th>\n",
       "      <td>[Lucien Castex, Bella Cherkesova, Vladimir Gab...</td>\n",
       "      <td>Session 4. Digital platforms: the rules of the...</td>\n",
       "      <td>Hosted by: Competence Center for Global IT Coo...</td>\n",
       "      <td>2020</td>\n",
       "    </tr>\n",
       "    <tr>\n",
       "      <th>16</th>\n",
       "      <td>[Elena Bocherova, Presentation, Stanislav Fese...</td>\n",
       "      <td>Session 5. Building a system of trust in suppl...</td>\n",
       "      <td>Trust for IT products and services is gaining ...</td>\n",
       "      <td>2020</td>\n",
       "    </tr>\n",
       "    <tr>\n",
       "      <th>17</th>\n",
       "      <td>[Sergey Golovanov, Presentation, Alexander Kal...</td>\n",
       "      <td>Session 6. Attributing cyberattacks on the int...</td>\n",
       "      <td>The past four years have seen unprecedented gr...</td>\n",
       "      <td>2020</td>\n",
       "    </tr>\n",
       "    <tr>\n",
       "      <th>18</th>\n",
       "      <td>[Elena Zayeva, Karen Kazaryan, Yury Kontemirov...</td>\n",
       "      <td>Session 7. User agreements with internet platf...</td>\n",
       "      <td>All internet platforms censor the content and ...</td>\n",
       "      <td>2020</td>\n",
       "    </tr>\n",
       "    <tr>\n",
       "      <th>19</th>\n",
       "      <td>[Presentation]</td>\n",
       "      <td>Session 8. Taking stock</td>\n",
       "      <td>Representatives from the Youth Session will pr...</td>\n",
       "      <td>2020</td>\n",
       "    </tr>\n",
       "    <tr>\n",
       "      <th>20</th>\n",
       "      <td>[]</td>\n",
       "      <td>1. New technologies at the  \\r\\nservice of peo...</td>\n",
       "      <td>Moderator: Evgeny  Kuznetsov,  \\r\\nDigital Evo...</td>\n",
       "      <td>2019</td>\n",
       "    </tr>\n",
       "    <tr>\n",
       "      <th>21</th>\n",
       "      <td>[]</td>\n",
       "      <td>3. Security and quality of  \\r\\n    informatio...</td>\n",
       "      <td>Moderator: Roman Chukov, Russian Center \\r\\nfo...</td>\n",
       "      <td>2019</td>\n",
       "    </tr>\n",
       "    <tr>\n",
       "      <th>22</th>\n",
       "      <td>[]</td>\n",
       "      <td>Special Address</td>\n",
       "      <td>None</td>\n",
       "      <td>2018</td>\n",
       "    </tr>\n",
       "    <tr>\n",
       "      <th>23</th>\n",
       "      <td>[Sergey Plugotarenko, Presentation]</td>\n",
       "      <td>Special Address</td>\n",
       "      <td>None</td>\n",
       "      <td>2017</td>\n",
       "    </tr>\n",
       "    <tr>\n",
       "      <th>24</th>\n",
       "      <td>[Oleg  Demidov, Maarit  Palovirta, Andrey  Yar...</td>\n",
       "      <td>1. Cybersecurity See</td>\n",
       "      <td>Модератор: Mikhail  \\r\\nAnisimov, \\r\\nCoordina...</td>\n",
       "      <td>2017</td>\n",
       "    </tr>\n",
       "    <tr>\n",
       "      <th>25</th>\n",
       "      <td>[Dmitry Marinichev]</td>\n",
       "      <td>\\n3. E-Governance: Secrets behind success See</td>\n",
       "      <td>Модератор: Leonid \\r\\nTodorov, APTLD</td>\n",
       "      <td>2017</td>\n",
       "    </tr>\n",
       "    <tr>\n",
       "      <th>26</th>\n",
       "      <td>[Wolfgang Kleinwaechter]</td>\n",
       "      <td>Special Address</td>\n",
       "      <td>None</td>\n",
       "      <td>2016</td>\n",
       "    </tr>\n",
       "    <tr>\n",
       "      <th>27</th>\n",
       "      <td>[Mikhail Anisimov, Oleg Demidov, Georgiy Grits...</td>\n",
       "      <td>1. Para Bellum? Si vis pacem!\\nSee</td>\n",
       "      <td>None</td>\n",
       "      <td>2016</td>\n",
       "    </tr>\n",
       "    <tr>\n",
       "      <th>28</th>\n",
       "      <td>[Wolfgang Kleinwaechter, Aleksandra Kulikova, ...</td>\n",
       "      <td>3. Rocking your ten commandmentsSee</td>\n",
       "      <td>A plethora of international organizations and ...</td>\n",
       "      <td>2016</td>\n",
       "    </tr>\n",
       "  </tbody>\n",
       "</table>\n",
       "</div>"
      ],
      "text/plain": [
       "                                              persons  \\\n",
       "0   [Maxut Shadayev, Alexander Khinstein, Tatyana ...   \n",
       "1   [Mandy Carver, Rashid Ismailov, Wolfgang Klein...   \n",
       "2   [Maxim Fedorov, Elsa  Ganeeva, Andrey Ignatyev...   \n",
       "3   [Bertrand de  la Chapelle, Nikolay Dmitrik, Al...   \n",
       "4                                                  []   \n",
       "5   [Lucien Castex, Bella Cherkesova, Vladimir Gab...   \n",
       "6   [Elena Bocherova, Presentation, Stanislav Fese...   \n",
       "7   [Sergey Golovanov, Presentation, Alexander Kal...   \n",
       "8   [Elena Zayeva, Karen Kazaryan, Yury Kontemirov...   \n",
       "9                                      [Presentation]   \n",
       "10  [Maxut Shadayev, Alexander Khinstein, Tatyana ...   \n",
       "11  [Mandy Carver, Rashid Ismailov, Wolfgang Klein...   \n",
       "12  [Maxim Fedorov, Elsa  Ganeeva, Andrey Ignatyev...   \n",
       "13  [Bertrand de  la Chapelle, Nikolay Dmitrik, Al...   \n",
       "14                                                 []   \n",
       "15  [Lucien Castex, Bella Cherkesova, Vladimir Gab...   \n",
       "16  [Elena Bocherova, Presentation, Stanislav Fese...   \n",
       "17  [Sergey Golovanov, Presentation, Alexander Kal...   \n",
       "18  [Elena Zayeva, Karen Kazaryan, Yury Kontemirov...   \n",
       "19                                     [Presentation]   \n",
       "20                                                 []   \n",
       "21                                                 []   \n",
       "22                                                 []   \n",
       "23                [Sergey Plugotarenko, Presentation]   \n",
       "24  [Oleg  Demidov, Maarit  Palovirta, Andrey  Yar...   \n",
       "25                                [Dmitry Marinichev]   \n",
       "26                           [Wolfgang Kleinwaechter]   \n",
       "27  [Mikhail Anisimov, Oleg Demidov, Georgiy Grits...   \n",
       "28  [Wolfgang Kleinwaechter, Aleksandra Kulikova, ...   \n",
       "\n",
       "                                                title  \\\n",
       "0                                    Opening Ceremony   \n",
       "1                     Session 1. Internet governance    \n",
       "2   Session 2. Emerging technologies. Artificial i...   \n",
       "3             Session 3. Regulation: Data sovereignty   \n",
       "4   Virtuti Interneti award presentation and the a...   \n",
       "5   Session 4. Digital platforms: the rules of the...   \n",
       "6   Session 5. Building a system of trust in suppl...   \n",
       "7   Session 6. Attributing cyberattacks on the int...   \n",
       "8   Session 7. User agreements with internet platf...   \n",
       "9                             Session 8. Taking stock   \n",
       "10                                   Opening Ceremony   \n",
       "11                    Session 1. Internet governance    \n",
       "12  Session 2. Emerging technologies. Artificial i...   \n",
       "13            Session 3. Regulation: Data sovereignty   \n",
       "14  Virtuti Interneti award presentation and the a...   \n",
       "15  Session 4. Digital platforms: the rules of the...   \n",
       "16  Session 5. Building a system of trust in suppl...   \n",
       "17  Session 6. Attributing cyberattacks on the int...   \n",
       "18  Session 7. User agreements with internet platf...   \n",
       "19                            Session 8. Taking stock   \n",
       "20  1. New technologies at the  \\r\\nservice of peo...   \n",
       "21  3. Security and quality of  \\r\\n    informatio...   \n",
       "22                                    Special Address   \n",
       "23                                    Special Address   \n",
       "24                               1. Cybersecurity See   \n",
       "25      \\n3. E-Governance: Secrets behind success See   \n",
       "26                                    Special Address   \n",
       "27                 1. Para Bellum? Si vis pacem!\\nSee   \n",
       "28                3. Rocking your ten commandmentsSee   \n",
       "\n",
       "                                              summary  year  \n",
       "0   The Sixth National Youth Contest of Works on  ...  2021  \n",
       "1   In July 2018, the UN Secretary-General announc...  2021  \n",
       "2   Under the Concept on Regulation of Relations i...  2021  \n",
       "3   Data sovereignty is the idea that data is subj...  2021  \n",
       "4   In 2010, the Coordination Center for TLD .RU/....  2021  \n",
       "5   Hosted by: Competence Center for Global IT Coo...  2021  \n",
       "6   Trust for IT products and services is gaining ...  2021  \n",
       "7   The past four years have seen unprecedented gr...  2021  \n",
       "8   All internet platforms censor the content and ...  2021  \n",
       "9   Representatives from the Youth Session will pr...  2021  \n",
       "10  The Sixth National Youth Contest of Works on  ...  2020  \n",
       "11  In July 2018, the UN Secretary-General announc...  2020  \n",
       "12  Under the Concept on Regulation of Relations i...  2020  \n",
       "13  Data sovereignty is the idea that data is subj...  2020  \n",
       "14  In 2010, the Coordination Center for TLD .RU/....  2020  \n",
       "15  Hosted by: Competence Center for Global IT Coo...  2020  \n",
       "16  Trust for IT products and services is gaining ...  2020  \n",
       "17  The past four years have seen unprecedented gr...  2020  \n",
       "18  All internet platforms censor the content and ...  2020  \n",
       "19  Representatives from the Youth Session will pr...  2020  \n",
       "20  Moderator: Evgeny  Kuznetsov,  \\r\\nDigital Evo...  2019  \n",
       "21  Moderator: Roman Chukov, Russian Center \\r\\nfo...  2019  \n",
       "22                                               None  2018  \n",
       "23                                               None  2017  \n",
       "24  Модератор: Mikhail  \\r\\nAnisimov, \\r\\nCoordina...  2017  \n",
       "25               Модератор: Leonid \\r\\nTodorov, APTLD  2017  \n",
       "26                                               None  2016  \n",
       "27                                               None  2016  \n",
       "28  A plethora of international organizations and ...  2016  "
      ]
     },
     "execution_count": 16,
     "metadata": {},
     "output_type": "execute_result"
    }
   ],
   "source": [
    "df = pd.DataFrame.from_dict(reports)\n",
    "df"
   ]
  },
  {
   "cell_type": "code",
   "execution_count": 31,
   "metadata": {},
   "outputs": [],
   "source": [
    "df.to_json('all_data.json')"
   ]
  },
  {
   "cell_type": "markdown",
   "metadata": {},
   "source": [
    "# Статистика"
   ]
  },
  {
   "cell_type": "markdown",
   "metadata": {},
   "source": [
    "**Всего сессий**"
   ]
  },
  {
   "cell_type": "code",
   "execution_count": 17,
   "metadata": {},
   "outputs": [
    {
     "data": {
      "text/plain": [
       "116"
      ]
     },
     "execution_count": 17,
     "metadata": {},
     "output_type": "execute_result"
    }
   ],
   "source": [
    "df.size"
   ]
  },
  {
   "cell_type": "markdown",
   "metadata": {},
   "source": [
    "**Всего персон**"
   ]
  },
  {
   "cell_type": "code",
   "execution_count": 29,
   "metadata": {},
   "outputs": [
    {
     "data": {
      "text/plain": [
       "61"
      ]
     },
     "execution_count": 29,
     "metadata": {},
     "output_type": "execute_result"
    }
   ],
   "source": [
    "import itertools\n",
    "all_persons = [r['persons'] for r in reports]\n",
    "all_persons = set(itertools.chain.from_iterable(all_persons))\n",
    "\n",
    "len(all_persons)\n"
   ]
  },
  {
   "cell_type": "markdown",
   "metadata": {},
   "source": [
    "**--//--//--**"
   ]
  }
 ],
 "metadata": {
  "interpreter": {
   "hash": "cac020b581384e1962e972c3920410c10ad897384973141e78281b82384cc9cd"
  },
  "kernelspec": {
   "display_name": "Python 3.9.7 ('pytorch')",
   "language": "python",
   "name": "python3"
  },
  "language_info": {
   "codemirror_mode": {
    "name": "ipython",
    "version": 3
   },
   "file_extension": ".py",
   "mimetype": "text/x-python",
   "name": "python",
   "nbconvert_exporter": "python",
   "pygments_lexer": "ipython3",
   "version": "3.9.7"
  },
  "orig_nbformat": 4
 },
 "nbformat": 4,
 "nbformat_minor": 2
}
