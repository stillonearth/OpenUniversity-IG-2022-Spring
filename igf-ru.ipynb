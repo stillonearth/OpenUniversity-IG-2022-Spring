{
 "cells": [
  {
   "cell_type": "code",
   "execution_count": 1,
   "metadata": {},
   "outputs": [],
   "source": [
    "import requests\n",
    "from bs4 import BeautifulSoup\n",
    "import pandas as pd\n",
    "import urllib.parse\n",
    "from urllib.parse import parse_qs\n",
    "from youtube_transcript_api import YouTubeTranscriptApi"
   ]
  },
  {
   "cell_type": "code",
   "execution_count": 2,
   "metadata": {},
   "outputs": [
    {
     "data": {
      "text/html": [
       "<img src=\"https://static.tildacdn.com/tild3361-3935-4166-a132-616437623963/IGF-Thumbnail.png\" width=\"300\" height=\"200\"/>"
      ],
      "text/plain": [
       "<IPython.core.display.Image object>"
      ]
     },
     "execution_count": 2,
     "metadata": {},
     "output_type": "execute_result"
    }
   ],
   "source": [
    "from IPython.display import Image\n",
    "Image(url=\"https://static.tildacdn.com/tild3361-3935-4166-a132-616437623963/IGF-Thumbnail.png\", width=300, height=200)"
   ]
  },
  {
   "cell_type": "code",
   "execution_count": 3,
   "metadata": {},
   "outputs": [],
   "source": [
    "#\n",
    "# YouTubeTranscriptApi.get_transcript(\"bAtxYDZsHW8\", languages=['ru', 'en'])"
   ]
  },
  {
   "cell_type": "markdown",
   "metadata": {},
   "source": [
    "Сессии и спикеры Internet Governance Forum Russia 2010—2021"
   ]
  },
  {
   "cell_type": "markdown",
   "metadata": {},
   "source": [
    "## Данные о сессиях IGF 2021-2015"
   ]
  },
  {
   "cell_type": "code",
   "execution_count": 4,
   "metadata": {},
   "outputs": [],
   "source": [
    "def parse_igf_v2(soup, year):\n",
    "\n",
    "    for report in soup.select(\"tr > td#left\"):\n",
    "\n",
    "        video_page = report.select(\".arrow_presentation a\")\n",
    "        video_url = None\n",
    "        if len(video_page) > 0:\n",
    "            video_url = video_page[0]['href']\n",
    "            if \"?p=video\" not in video_url:\n",
    "                video_url = None\n",
    "            else:\n",
    "                video_url = parse_qs(video_url)['vid'][0]\n",
    "                video_url = None if len(video_url) != 11 else video_url\n",
    "    \n",
    "\n",
    "        yield {\n",
    "            'youtube_id': video_url,\n",
    "            'persons': [p.text for p in report.select(\"ul li a\")],\n",
    "            'title': report.find(\"h4\").text,\n",
    "            'summary': report.find(\"p\").text if report.find(\"p\") else None,\n",
    "            'year': year,\n",
    "        }"
   ]
  },
  {
   "cell_type": "code",
   "execution_count": 5,
   "metadata": {},
   "outputs": [],
   "source": [
    "reports = []"
   ]
  },
  {
   "cell_type": "code",
   "execution_count": 6,
   "metadata": {},
   "outputs": [],
   "source": [
    "sessions_v2 = {\n",
    "    2021: \"https://rigf2021.ru/prog/?p=prog\",\n",
    "    2020: \"https://rigf2020.ru/prog/?p=prog\",\n",
    "    2019: \"https://rigf2019.ru/prog/?p=prog\",\n",
    "    2018: \"https://rigf2018.ru/prog/?p=prog\",\n",
    "    2017: \"https://rigf2017.ru/prog/?p=prog\",\n",
    "    2016: \"https://rigf2016.ru/prog/?p=prog\",\n",
    "    2015: \"https://rigf2015.ru/prog/?p=prog\",\n",
    "}"
   ]
  },
  {
   "cell_type": "code",
   "execution_count": 7,
   "metadata": {},
   "outputs": [],
   "source": [
    "for (year, link) in sessions_v2.items():\n",
    "    page = requests.get(link)\n",
    "    soup = BeautifulSoup(page.text, 'html.parser')\n",
    "    for r in parse_igf_v2(soup, year): \n",
    "        reports.append(r)"
   ]
  },
  {
   "cell_type": "markdown",
   "metadata": {},
   "source": [
    "## Данные о сессиях IGF 2014-2011"
   ]
  },
  {
   "cell_type": "code",
   "execution_count": 8,
   "metadata": {},
   "outputs": [],
   "source": [
    "def parse_igf_v1(soup, year):\n",
    "\n",
    "    for report in soup.select(\"table.pro td\"):\n",
    "\n",
    "        if report.find(\"h3\") is None:\n",
    "            continue\n",
    "\n",
    "        video_page = report.select(\".arrow a\")\n",
    "        video_url = None\n",
    "        if len(video_page) > 0:\n",
    "            video_url = video_page[len(video_page)-1]['href']\n",
    "            if \"?p=video\" not in video_url:\n",
    "                video_url = None\n",
    "            else:\n",
    "                video_url = parse_qs(video_url)['vid'][0]\n",
    "                video_url = None if len(video_url) != 11 else video_url\n",
    "\n",
    "        yield {\n",
    "            'youtube_id': video_url,\n",
    "            'persons': [p.text for p in report.select(\"ul li a\")],\n",
    "            'title': report.find(\"h3\").text,\n",
    "            'summary': report.find(\"p\").text if report.find(\"p\") else None,\n",
    "            'year': year,\n",
    "        }"
   ]
  },
  {
   "cell_type": "code",
   "execution_count": 9,
   "metadata": {},
   "outputs": [],
   "source": [
    "sessions_v1 = {\n",
    "    2014: \"https://rigf2014.ru/prog/?p=prog\",\n",
    "    2013: \"https://rigf2013.ru/prog/?p=prog\",\n",
    "    2012: \"https://rigf2012.ru/prog/?p=prog\",\n",
    "    2011: \"https://rigf2011.ru/prog/?p=prog\",\n",
    "}"
   ]
  },
  {
   "cell_type": "code",
   "execution_count": 10,
   "metadata": {},
   "outputs": [],
   "source": [
    "for (year, link) in sessions_v1.items():\n",
    "    page = requests.get(link)\n",
    "    soup = BeautifulSoup(page.text, 'html.parser')\n",
    "    for r in parse_igf_v1(soup, year):\n",
    "        reports.append(r)"
   ]
  },
  {
   "cell_type": "markdown",
   "metadata": {},
   "source": [
    "## Данные о сессии IGF 2010"
   ]
  },
  {
   "cell_type": "code",
   "execution_count": 11,
   "metadata": {},
   "outputs": [],
   "source": [
    "def parse_igf_v0(soup, year):\n",
    "    for report in soup.select(\"tr > td#left\"):\n",
    "        yield {\n",
    "            'youtube_id': None,\n",
    "            'persons': [p.text for p in report.select(\"ul li strong a\")],\n",
    "            'title': report.find(\"strong a\").text,\n",
    "            'summary': report.find(\"p\").text if report.find(\"p\") else None,\n",
    "            'year': year,\n",
    "        }"
   ]
  },
  {
   "cell_type": "code",
   "execution_count": 12,
   "metadata": {},
   "outputs": [],
   "source": [
    "igfru2010_link = \"https://rigf2010.ru/eng/program.php\"\n",
    "page = requests.get(link)\n",
    "soup = BeautifulSoup(page.text, 'html.parser')\n",
    "for r in parse_igf_v0(soup, 2010): reports.append(r)"
   ]
  },
  {
   "cell_type": "markdown",
   "metadata": {},
   "source": [
    "## Транскрипции выступлений"
   ]
  },
  {
   "cell_type": "code",
   "execution_count": 13,
   "metadata": {},
   "outputs": [],
   "source": [
    "for r in reports:\n",
    "    try:\n",
    "        transcript = YouTubeTranscriptApi.get_transcript(r['youtube_id'], languages=['ru'])\n",
    "        r['video_transcript'] = \" \".join([t['text'] for t in transcript])\n",
    "    except:\n",
    "        r['video_transcript'] = None"
   ]
  },
  {
   "cell_type": "markdown",
   "metadata": {},
   "source": [
    "## Все сессии и спикеры"
   ]
  },
  {
   "cell_type": "code",
   "execution_count": 14,
   "metadata": {},
   "outputs": [
    {
     "data": {
      "text/html": [
       "<div>\n",
       "<style scoped>\n",
       "    .dataframe tbody tr th:only-of-type {\n",
       "        vertical-align: middle;\n",
       "    }\n",
       "\n",
       "    .dataframe tbody tr th {\n",
       "        vertical-align: top;\n",
       "    }\n",
       "\n",
       "    .dataframe thead th {\n",
       "        text-align: right;\n",
       "    }\n",
       "</style>\n",
       "<table border=\"1\" class=\"dataframe\">\n",
       "  <thead>\n",
       "    <tr style=\"text-align: right;\">\n",
       "      <th></th>\n",
       "      <th>youtube_id</th>\n",
       "      <th>persons</th>\n",
       "      <th>title</th>\n",
       "      <th>summary</th>\n",
       "      <th>year</th>\n",
       "      <th>video_transcript</th>\n",
       "    </tr>\n",
       "  </thead>\n",
       "  <tbody>\n",
       "    <tr>\n",
       "      <th>0</th>\n",
       "      <td>248b1oXAvB0</td>\n",
       "      <td>[Максут Шадаев, Александр Хинштейн, Татьяна Ма...</td>\n",
       "      <td>Церемония открытия</td>\n",
       "      <td>6  Всероссийский молодежный конкурс работ по п...</td>\n",
       "      <td>2021</td>\n",
       "      <td>друзья доброе утро здравствуйте дорогие участн...</td>\n",
       "    </tr>\n",
       "    <tr>\n",
       "      <th>1</th>\n",
       "      <td>aJFxUKudzwU</td>\n",
       "      <td>[Рашид Исмаилов, Мэнди Карвер, Вольфганг Клейн...</td>\n",
       "      <td>Секция 1. Управление интернетом</td>\n",
       "      <td>В июле 2018 года Генеральный секретарь ООН объ...</td>\n",
       "      <td>2021</td>\n",
       "      <td>российский форум по управлению интернетом и се...</td>\n",
       "    </tr>\n",
       "    <tr>\n",
       "      <th>2</th>\n",
       "      <td>pdTQahZV5TQ</td>\n",
       "      <td>[Эльза  Ганеева, Андрей Игнатьев, Презентация,...</td>\n",
       "      <td>Секция 2. Новые технологии. Искусственный инте...</td>\n",
       "      <td>В соответствии с «Концепцией развития регулиро...</td>\n",
       "      <td>2021</td>\n",
       "      <td>секция называется новые технологии искусственн...</td>\n",
       "    </tr>\n",
       "    <tr>\n",
       "      <th>3</th>\n",
       "      <td>q4R98A4Eh84</td>\n",
       "      <td>[Милош Вагнер, Наталья Великородняя, Николай Д...</td>\n",
       "      <td>Секция 3. Суверенитет данных</td>\n",
       "      <td>Суверенитет данных – это идея о том, что данны...</td>\n",
       "      <td>2021</td>\n",
       "      <td>доброе утро уважаемые участники 11 российского...</td>\n",
       "    </tr>\n",
       "    <tr>\n",
       "      <th>4</th>\n",
       "      <td>XQZTCXwWIvE</td>\n",
       "      <td>[]</td>\n",
       "      <td>Вручение награды Virtuti Interneti и традицион...</td>\n",
       "      <td>В 2010 г. Координационный центр доменов .RU/.Р...</td>\n",
       "      <td>2021</td>\n",
       "      <td>дорогие друзья мы переходим следующему этапу 1...</td>\n",
       "    </tr>\n",
       "    <tr>\n",
       "      <th>...</th>\n",
       "      <td>...</td>\n",
       "      <td>...</td>\n",
       "      <td>...</td>\n",
       "      <td>...</td>\n",
       "      <td>...</td>\n",
       "      <td>...</td>\n",
       "    </tr>\n",
       "    <tr>\n",
       "      <th>79</th>\n",
       "      <td>None</td>\n",
       "      <td>[]</td>\n",
       "      <td>Круглый  стол 1. Российская  и европейская поз...</td>\n",
       "      <td>Европа  - один признанных лидеров в области ра...</td>\n",
       "      <td>2011</td>\n",
       "      <td>NaN</td>\n",
       "    </tr>\n",
       "    <tr>\n",
       "      <th>80</th>\n",
       "      <td>None</td>\n",
       "      <td>[]</td>\n",
       "      <td>Круглый  стол 2. Управление интернетом в Росси...</td>\n",
       "      <td>Модераторы: Маркус  Куммер, Вице-президент ISO...</td>\n",
       "      <td>2011</td>\n",
       "      <td>NaN</td>\n",
       "    </tr>\n",
       "    <tr>\n",
       "      <th>81</th>\n",
       "      <td>None</td>\n",
       "      <td>[]</td>\n",
       "      <td>Перерыв на кофе</td>\n",
       "      <td>None</td>\n",
       "      <td>2011</td>\n",
       "      <td>NaN</td>\n",
       "    </tr>\n",
       "    <tr>\n",
       "      <th>82</th>\n",
       "      <td>None</td>\n",
       "      <td>[]</td>\n",
       "      <td>Сценарии будущего развития интернета: взгляд и...</td>\n",
       "      <td>Большинство  экспертов предполагают, что в буд...</td>\n",
       "      <td>2011</td>\n",
       "      <td>NaN</td>\n",
       "    </tr>\n",
       "    <tr>\n",
       "      <th>83</th>\n",
       "      <td>None</td>\n",
       "      <td>[]</td>\n",
       "      <td>Специальное  выступление</td>\n",
       "      <td>Дэвид  Фарбер, профессор университета Карнеги-...</td>\n",
       "      <td>2011</td>\n",
       "      <td>NaN</td>\n",
       "    </tr>\n",
       "  </tbody>\n",
       "</table>\n",
       "<p>84 rows × 6 columns</p>\n",
       "</div>"
      ],
      "text/plain": [
       "     youtube_id                                            persons  \\\n",
       "0   248b1oXAvB0  [Максут Шадаев, Александр Хинштейн, Татьяна Ма...   \n",
       "1   aJFxUKudzwU  [Рашид Исмаилов, Мэнди Карвер, Вольфганг Клейн...   \n",
       "2   pdTQahZV5TQ  [Эльза  Ганеева, Андрей Игнатьев, Презентация,...   \n",
       "3   q4R98A4Eh84  [Милош Вагнер, Наталья Великородняя, Николай Д...   \n",
       "4   XQZTCXwWIvE                                                 []   \n",
       "..          ...                                                ...   \n",
       "79         None                                                 []   \n",
       "80         None                                                 []   \n",
       "81         None                                                 []   \n",
       "82         None                                                 []   \n",
       "83         None                                                 []   \n",
       "\n",
       "                                                title  \\\n",
       "0                                  Церемония открытия   \n",
       "1                     Секция 1. Управление интернетом   \n",
       "2   Секция 2. Новые технологии. Искусственный инте...   \n",
       "3                        Секция 3. Суверенитет данных   \n",
       "4   Вручение награды Virtuti Interneti и традицион...   \n",
       "..                                                ...   \n",
       "79  Круглый  стол 1. Российская  и европейская поз...   \n",
       "80  Круглый  стол 2. Управление интернетом в Росси...   \n",
       "81                                   Перерыв на кофе    \n",
       "82  Сценарии будущего развития интернета: взгляд и...   \n",
       "83                           Специальное  выступление   \n",
       "\n",
       "                                              summary  year  \\\n",
       "0   6  Всероссийский молодежный конкурс работ по п...  2021   \n",
       "1   В июле 2018 года Генеральный секретарь ООН объ...  2021   \n",
       "2   В соответствии с «Концепцией развития регулиро...  2021   \n",
       "3   Суверенитет данных – это идея о том, что данны...  2021   \n",
       "4   В 2010 г. Координационный центр доменов .RU/.Р...  2021   \n",
       "..                                                ...   ...   \n",
       "79  Европа  - один признанных лидеров в области ра...  2011   \n",
       "80  Модераторы: Маркус  Куммер, Вице-президент ISO...  2011   \n",
       "81                                               None  2011   \n",
       "82  Большинство  экспертов предполагают, что в буд...  2011   \n",
       "83  Дэвид  Фарбер, профессор университета Карнеги-...  2011   \n",
       "\n",
       "                                     video_transcript  \n",
       "0   друзья доброе утро здравствуйте дорогие участн...  \n",
       "1   российский форум по управлению интернетом и се...  \n",
       "2   секция называется новые технологии искусственн...  \n",
       "3   доброе утро уважаемые участники 11 российского...  \n",
       "4   дорогие друзья мы переходим следующему этапу 1...  \n",
       "..                                                ...  \n",
       "79                                                NaN  \n",
       "80                                                NaN  \n",
       "81                                                NaN  \n",
       "82                                                NaN  \n",
       "83                                                NaN  \n",
       "\n",
       "[84 rows x 6 columns]"
      ]
     },
     "execution_count": 14,
     "metadata": {},
     "output_type": "execute_result"
    }
   ],
   "source": [
    "df = pd.DataFrame.from_dict(reports)\n",
    "df"
   ]
  },
  {
   "cell_type": "code",
   "execution_count": 18,
   "metadata": {},
   "outputs": [],
   "source": [
    "df.to_json('all_data.json')"
   ]
  },
  {
   "cell_type": "markdown",
   "metadata": {},
   "source": [
    "# Статистика"
   ]
  },
  {
   "cell_type": "markdown",
   "metadata": {},
   "source": [
    "**Всего сессий**"
   ]
  },
  {
   "cell_type": "code",
   "execution_count": 16,
   "metadata": {},
   "outputs": [
    {
     "data": {
      "text/plain": [
       "504"
      ]
     },
     "execution_count": 16,
     "metadata": {},
     "output_type": "execute_result"
    }
   ],
   "source": [
    "df.size"
   ]
  },
  {
   "cell_type": "markdown",
   "metadata": {},
   "source": [
    "**Всего персон**"
   ]
  },
  {
   "cell_type": "code",
   "execution_count": 17,
   "metadata": {},
   "outputs": [
    {
     "data": {
      "text/plain": [
       "144"
      ]
     },
     "execution_count": 17,
     "metadata": {},
     "output_type": "execute_result"
    }
   ],
   "source": [
    "import itertools\n",
    "all_persons = [r['persons'] for r in reports]\n",
    "all_persons = set(itertools.chain.from_iterable(all_persons))\n",
    "\n",
    "len(all_persons)\n"
   ]
  },
  {
   "cell_type": "markdown",
   "metadata": {},
   "source": [
    "**Докладов с транскрипцией**"
   ]
  },
  {
   "cell_type": "code",
   "execution_count": 20,
   "metadata": {},
   "outputs": [
    {
     "ename": "KeyError",
     "evalue": "'video_transcript'",
     "output_type": "error",
     "traceback": [
      "\u001b[1;31m---------------------------------------------------------------------------\u001b[0m",
      "\u001b[1;31mKeyError\u001b[0m                                  Traceback (most recent call last)",
      "\u001b[1;32m~\\AppData\\Local\\Temp\\ipykernel_20888\\2404426227.py\u001b[0m in \u001b[0;36m<module>\u001b[1;34m\u001b[0m\n\u001b[1;32m----> 1\u001b[1;33m \u001b[0mlen\u001b[0m\u001b[1;33m(\u001b[0m\u001b[0mlist\u001b[0m\u001b[1;33m(\u001b[0m\u001b[0mfilter\u001b[0m\u001b[1;33m(\u001b[0m\u001b[1;32mlambda\u001b[0m \u001b[0mr\u001b[0m\u001b[1;33m:\u001b[0m \u001b[0mr\u001b[0m\u001b[1;33m[\u001b[0m\u001b[1;34m'video_transcript'\u001b[0m\u001b[1;33m]\u001b[0m \u001b[1;32mis\u001b[0m \u001b[1;32mnot\u001b[0m \u001b[1;32mNone\u001b[0m\u001b[1;33m,\u001b[0m \u001b[0mreports\u001b[0m\u001b[1;33m)\u001b[0m\u001b[1;33m)\u001b[0m\u001b[1;33m)\u001b[0m\u001b[1;33m\u001b[0m\u001b[1;33m\u001b[0m\u001b[0m\n\u001b[0m",
      "\u001b[1;32m~\\AppData\\Local\\Temp\\ipykernel_20888\\2404426227.py\u001b[0m in \u001b[0;36m<lambda>\u001b[1;34m(r)\u001b[0m\n\u001b[1;32m----> 1\u001b[1;33m \u001b[0mlen\u001b[0m\u001b[1;33m(\u001b[0m\u001b[0mlist\u001b[0m\u001b[1;33m(\u001b[0m\u001b[0mfilter\u001b[0m\u001b[1;33m(\u001b[0m\u001b[1;32mlambda\u001b[0m \u001b[0mr\u001b[0m\u001b[1;33m:\u001b[0m \u001b[0mr\u001b[0m\u001b[1;33m[\u001b[0m\u001b[1;34m'video_transcript'\u001b[0m\u001b[1;33m]\u001b[0m \u001b[1;32mis\u001b[0m \u001b[1;32mnot\u001b[0m \u001b[1;32mNone\u001b[0m\u001b[1;33m,\u001b[0m \u001b[0mreports\u001b[0m\u001b[1;33m)\u001b[0m\u001b[1;33m)\u001b[0m\u001b[1;33m)\u001b[0m\u001b[1;33m\u001b[0m\u001b[1;33m\u001b[0m\u001b[0m\n\u001b[0m",
      "\u001b[1;31mKeyError\u001b[0m: 'video_transcript'"
     ]
    }
   ],
   "source": [
    "len(list(filter(lambda r: r['video_transcript'] is not None, reports)))"
   ]
  },
  {
   "cell_type": "code",
   "execution_count": null,
   "metadata": {},
   "outputs": [],
   "source": []
  }
 ],
 "metadata": {
  "interpreter": {
   "hash": "cac020b581384e1962e972c3920410c10ad897384973141e78281b82384cc9cd"
  },
  "kernelspec": {
   "display_name": "Python 3.9.7 ('pytorch')",
   "language": "python",
   "name": "python3"
  },
  "language_info": {
   "codemirror_mode": {
    "name": "ipython",
    "version": 3
   },
   "file_extension": ".py",
   "mimetype": "text/x-python",
   "name": "python",
   "nbconvert_exporter": "python",
   "pygments_lexer": "ipython3",
   "version": "3.9.7"
  },
  "orig_nbformat": 4
 },
 "nbformat": 4,
 "nbformat_minor": 2
}
